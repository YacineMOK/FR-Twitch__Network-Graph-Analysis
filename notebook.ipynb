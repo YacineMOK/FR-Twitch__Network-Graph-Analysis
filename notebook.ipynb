{
 "cells": [
  {
   "attachments": {},
   "cell_type": "markdown",
   "metadata": {},
   "source": [
    "# M2 Data Science - Social and Graph Data Management \n",
    "###### -- Project -- Yacine Mokhtari\n",
    "\n",
    "**Graph:** Social Graph (Undirected)<br>\n",
    "**Name & link:** [``musae-twitch``](http://snap.stanford.edu/data/twitch-social-networks.html)<br>\n",
    "\n",
    "Here, I chose to focus only on the FR dataset."
   ]
  },
  {
   "attachments": {},
   "cell_type": "markdown",
   "metadata": {},
   "source": [
    "## I. Load dataset and required libraries"
   ]
  },
  {
   "cell_type": "code",
   "execution_count": 33,
   "metadata": {},
   "outputs": [
    {
     "name": "stdout",
     "output_type": "stream",
     "text": [
      "Number of nodes: 6549\n",
      "Number of edges: 112666\n",
      "Number of connected components (sub-graphs): 1\n"
     ]
    }
   ],
   "source": [
    "# Imports\n",
    "import json\n",
    "import numpy as np \n",
    "from tqdm import tqdm\n",
    "import networkx as nx\n",
    "from math import comb, pow\n",
    "import plotly.express as px\n",
    "from collections import Counter\n",
    "import plotly.graph_objects as go\n",
    "import networkx.algorithms.community as nx_comm\n",
    "import matplotlib.pyplot as plt\n",
    "# conda install -c plotly plotly=5.11.0 (https://plotly.com/python/getting-started/)\n",
    "\n",
    "\n",
    "\n",
    "PATH = \"./dataset/[Social Graph] FR twitch/\"\n",
    "CSV_FILENAME = \"musae_FR_edges.csv\"\n",
    "# JSON_FILENAME = \"RO_genres.json\" # may not be relevent for this study\n",
    "\n",
    "G = nx.read_edgelist(PATH+CSV_FILENAME, delimiter=',',nodetype=int)\n",
    "\n",
    "# --- Output some results\n",
    "print(f\"Number of nodes: {len(G.nodes())}\")\n",
    "print(f\"Number of edges: {len(G.edges())}\")\n",
    "print(f\"Number of connected components (sub-graphs): {nx.number_connected_components(G)}\")"
   ]
  },
  {
   "cell_type": "code",
   "execution_count": 34,
   "metadata": {},
   "outputs": [
    {
     "name": "stdout",
     "output_type": "stream",
     "text": [
      "Average degree: 34.40708505115285\n",
      "Highest degree: 2040\n",
      "\t|- #Nodes with deg >= 1020.0 ; 11\n",
      "Lowest degree: 1\n",
      "\t|- #Nodes : 247\n"
     ]
    }
   ],
   "source": [
    "# Computing the average degree\n",
    "deg_seq = [G.degree(x) for x in nx.nodes(G)]\n",
    "\n",
    "average_degree = sum(deg_seq)*1./len(deg_seq)\n",
    "print(f\"Average degree: {average_degree}\")\n",
    "print(f\"Highest degree: {max(deg_seq)}\\n\\t|- #Nodes with deg >= {max(deg_seq)/2} ; {np.sum([np.array(deg_seq) >= max(deg_seq)/2])}\")\n",
    "print(f\"Lowest degree: {min(deg_seq)}\\n\\t|- #Nodes : {np.sum([np.array(deg_seq) == min(deg_seq)])}\")"
   ]
  },
  {
   "cell_type": "code",
   "execution_count": 35,
   "metadata": {},
   "outputs": [],
   "source": [
    "seed = 42\n",
    "pos = nx.spring_layout(G, seed=seed) "
   ]
  },
  {
   "cell_type": "code",
   "execution_count": 36,
   "metadata": {},
   "outputs": [],
   "source": [
    "import plotly.io as pio\n",
    "pio.renderers.default = \"browser\"\n",
    "\n",
    "\n",
    "def draw_graph(G, layout_pos):\n",
    "    \"\"\"\n",
    "        Built following this example/tutorial:\n",
    "            https://plotly.com/python/network-graphs/\n",
    "    Args:\n",
    "        G (networkx): Graph\n",
    "        layout_pos (2D array): Position of nodes, obtained after selecting a certain layout (see cell above)\n",
    "    \"\"\"\n",
    "    # ------- EDGE TREATMENT\n",
    "    # Edge coordinates\n",
    "    edge_x = []\n",
    "    edge_y = []\n",
    "    for edge in G.edges():\n",
    "        x0, y0 = layout_pos[edge[0]]\n",
    "        x1, y1 = layout_pos[edge[1]]\n",
    "        edge_x.append(x0)\n",
    "        edge_x.append(x1)\n",
    "        edge_x.append(None)\n",
    "        edge_y.append(y0)\n",
    "        edge_y.append(y1)\n",
    "        edge_y.append(None)\n",
    "    # edge component\n",
    "    edge_trace = go.Scatter(\n",
    "        x=edge_x, y=edge_y,\n",
    "        line=dict(width=0.5, color='#888'),\n",
    "        hoverinfo='none',\n",
    "        mode='lines')\n",
    "\n",
    "    # ------- NODE TREATMENT\n",
    "    # node coordinates\n",
    "    node_x = []\n",
    "    node_y = []\n",
    "    for node in G.nodes():\n",
    "        x, y = layout_pos[node]\n",
    "        node_x.append(x)\n",
    "        node_y.append(y)\n",
    "    # node component\n",
    "    node_trace = go.Scatter(\n",
    "        x=node_x, y=node_y,\n",
    "        mode='markers',\n",
    "        hoverinfo='text',\n",
    "        marker=dict(\n",
    "            showscale=True,\n",
    "            # colorscale options\n",
    "            #'Greys' | 'YlGnBu' | 'Greens' | 'YlOrRd' | 'Bluered' | 'RdBu' |\n",
    "            #'Reds' | 'Blues' | 'Picnic' | 'Rainbow' | 'Portland' | 'Jet' |\n",
    "            #'Hot' | 'Blackbody' | 'Earth' | 'Electric' | 'Viridis' |\n",
    "            colorscale='YlGnBu',\n",
    "            reversescale=True,\n",
    "            color=[],\n",
    "            size=10,\n",
    "            colorbar=dict(\n",
    "                thickness=15,\n",
    "                title='Node Connections',\n",
    "                xanchor='left',\n",
    "                titleside='right'\n",
    "            ),\n",
    "            line_width=2))\n",
    "    # -------  COLOR Following adjacency\n",
    "    node_adjacencies = []\n",
    "    node_text = []\n",
    "    for node, adjacencies in enumerate(G.adjacency()):\n",
    "        node_adjacencies.append(len(adjacencies[1]))\n",
    "        node_text.append('Degree: '+str(len(adjacencies[1])))\n",
    "\n",
    "    node_trace.marker.color = node_adjacencies\n",
    "    node_trace.text = node_text \n",
    "\n",
    "    # -------- Create network graph\n",
    "    fig = go.Figure(data=[edge_trace, node_trace],\n",
    "                layout=go.Layout(\n",
    "                    title='<br>Deezer: RO dataset',\n",
    "                    titlefont_size=16,\n",
    "                    showlegend=False,\n",
    "                    hovermode='closest',\n",
    "                    margin=dict(b=20,l=5,r=5,t=40),\n",
    "                    annotations=[ dict(\n",
    "                        text=\"Network Analysis Project<br><small><b>M2 Data Science:</b> Social and Graph Data Management class<br>2022-2023</small>\",\n",
    "                        showarrow=False,\n",
    "                        xref=\"paper\", yref=\"paper\",\n",
    "                        x=0.005, y=-0.002 ) ],\n",
    "                    xaxis=dict(showgrid=False, zeroline=False, showticklabels=False),\n",
    "                    yaxis=dict(showgrid=False, zeroline=False, showticklabels=False))\n",
    "                    )\n",
    "    return fig\n",
    "\n",
    "# ------------ Plot graph\n",
    "fig = draw_graph(G, pos)\n",
    "fig.write_html(\"./[HTML] plots/network graph.html\")"
   ]
  },
  {
   "attachments": {},
   "cell_type": "markdown",
   "metadata": {},
   "source": [
    "## II. Generate a random graph sharing the same properties"
   ]
  },
  {
   "cell_type": "code",
   "execution_count": 37,
   "metadata": {},
   "outputs": [
    {
     "name": "stdout",
     "output_type": "stream",
     "text": [
      "<k>: 34.40708505115285\n",
      "The value of p: 0.005254594540493715\n"
     ]
    }
   ],
   "source": [
    "## Computing the value of p (in a random network having the same characteristics)\n",
    "average_degree = float(sum(deg_seq))/float(len(deg_seq))\n",
    "N = len(G.nodes())\n",
    "p = average_degree / (N-1)\n",
    "print(f\"<k>: {average_degree}\")\n",
    "print(f\"The value of p: {p}\")\n",
    "\n",
    "# -----------------------------------------------------------------------------------\n",
    "\n",
    "## Generating a random graph using N and p values and plot it\n",
    "G_rand  = nx.gnp_random_graph(N, p)\n",
    "deg_seq_rand = [G_rand.degree(x) for x in nx.nodes(G_rand)]\n"
   ]
  },
  {
   "attachments": {},
   "cell_type": "markdown",
   "metadata": {},
   "source": [
    "## III. Plots"
   ]
  },
  {
   "attachments": {},
   "cell_type": "markdown",
   "metadata": {},
   "source": [
    "#### 1. Degrees"
   ]
  },
  {
   "cell_type": "code",
   "execution_count": 38,
   "metadata": {},
   "outputs": [],
   "source": [
    "hist_fig = go.Figure(go.Histogram(\n",
    "    x=deg_seq,\n",
    "    bingroup=1,\n",
    "    name=\"FR Twitch Graph\",\n",
    "    opacity=0.75))\n",
    "\n",
    "hist_fig.add_trace(go.Histogram(\n",
    "    x=deg_seq_rand,\n",
    "    bingroup=1,\n",
    "    name=\"Random Graph\",\n",
    "    opacity=0.75))\n",
    "\n",
    "hist_fig.update_layout(\n",
    "    title_text='Histogram of degrees', # title of plot\n",
    "    xaxis_title_text='Degree Value', # xaxis label\n",
    "    yaxis_title_text='Count', # yaxis label\n",
    "    barmode=\"overlay\",\n",
    "    bargap=0.1 # gap between bars of adjacent location coordinates\n",
    ")\n",
    "\n",
    "# hist_fig.show()\n",
    "hist_fig.write_html(\"./[HTML] plots/degrees.html\")"
   ]
  },
  {
   "attachments": {},
   "cell_type": "markdown",
   "metadata": {},
   "source": [
    "### 2. Clustering coefficient "
   ]
  },
  {
   "cell_type": "code",
   "execution_count": 39,
   "metadata": {},
   "outputs": [],
   "source": [
    "### Clustering coefficient :\n",
    "clustering_coeff = list(nx.clustering(G).values())\n",
    "clustering_coeff_rand = list(nx.clustering(G_rand).values())\n",
    "### Average clustering coefficient values\n",
    "avg_clustering_coeff = nx.average_clustering(G)\n",
    "avg_clustering_coeff_rand = nx.average_clustering(G_rand)\n",
    "\n",
    "### Getting interesting values\n",
    "bin_min  =  min(np.min(clustering_coeff), np.min(clustering_coeff_rand))\n",
    "bin_max  = max(np.max(clustering_coeff), np.max(clustering_coeff_rand))\n",
    "bin_size = 1.*(bin_max - bin_min)/100\n",
    "\n",
    "### Plot the results in a histogram\n",
    "hist_fig2 = go.Figure(go.Histogram(\n",
    "    x=list(clustering_coeff),\n",
    "    xbins=dict( # bins used for histogram\n",
    "        start=bin_min,\n",
    "        end=bin_max,\n",
    "        size=bin_size\n",
    "    ),\n",
    "    name=\"FR Twitch Graph\",\n",
    "    opacity=0.75))\n",
    "\n",
    "hist_fig2.add_trace(go.Histogram(\n",
    "    x=list(clustering_coeff_rand),\n",
    "    xbins=dict( # bins used for histogram\n",
    "        start=bin_min,\n",
    "        end=bin_max,\n",
    "        size=bin_size\n",
    "    ),\n",
    "    name=\"Random Graph\",\n",
    "    opacity=0.75))\n",
    "\n",
    "# vlines average clust coeff\n",
    "\n",
    "hist_fig2.update_layout(\n",
    "    title_text='<b>Histogram of clustering coefficient</b>', # title of plot\n",
    "    xaxis_title_text='Values', # xaxis label\n",
    "    yaxis_title_text='Count', # yaxis label\n",
    "    barmode=\"overlay\",\n",
    "    bargap=0.1 # gap between bars of adjacent location coordinates\n",
    ")\n",
    "\n",
    "# hist_fig2.show()\n",
    "hist_fig2.write_html(\"./[HTML] plots/clustering coefficient.html\")"
   ]
  },
  {
   "attachments": {},
   "cell_type": "markdown",
   "metadata": {},
   "source": [
    "### 3. Distances"
   ]
  },
  {
   "cell_type": "code",
   "execution_count": 40,
   "metadata": {},
   "outputs": [
    {
     "name": "stderr",
     "output_type": "stream",
     "text": [
      "100%|██████████| 6549/6549 [02:59<00:00, 36.45it/s]\n",
      "100%|██████████| 6549/6549 [01:10<00:00, 92.45it/s] \n"
     ]
    }
   ],
   "source": [
    "def distance_seq(G):\n",
    "    \"\"\"Function that takes a graph as an input and returns a counter of all the distances from all the nodes\n",
    "\n",
    "    Args:\n",
    "        G (networkx): a graph\n",
    "\n",
    "    Returns:\n",
    "        Counter: distances/without information about the (source, target) couples\n",
    "    \"\"\"\n",
    "    c = Counter()\n",
    "    for i in tqdm(G.nodes()):\n",
    "        c.update(list(nx.single_source_shortest_path_length(G, i).values()))\n",
    "    return c\n",
    "\n",
    "### Compute the dist_seq \n",
    "dist_counter = distance_seq(G)\n",
    "dist_counter_rand = distance_seq(G_rand)\n",
    "\n",
    "### Useful values\n",
    "x1 = list(dist_counter.keys())\n",
    "y1 = list(dist_counter.values())\n",
    "x2 = list(dist_counter_rand.keys())\n",
    "y2 = list(dist_counter_rand.values())\n",
    "\n",
    "### Plot the results in a histogram\n",
    "hist_fig3 = go.Figure(go.Histogram(\n",
    "    x=x1, y=y1,\n",
    "    histfunc=\"sum\",\n",
    "    name=\"FR Twitch Graph\",\n",
    "    xbins=dict(\n",
    "        start=min(x1),\n",
    "        end=max(x1),\n",
    "        size=1\n",
    "    ),\n",
    "    opacity=0.75)\n",
    ")\n",
    "\n",
    "hist_fig3.add_trace(go.Histogram(\n",
    "    x=x2, y=y2,\n",
    "    histfunc=\"sum\",\n",
    "    name=\"Random Graph\",\n",
    "    xbins=dict(\n",
    "        start=min(x1),\n",
    "        end=max(x1),\n",
    "        size=1\n",
    "    ),\n",
    "    opacity=0.75)\n",
    ")\n",
    "# # vlines average clust coeff\n",
    "\n",
    "hist_fig3.update_layout(\n",
    "    title_text='<b>Histogram of distances</b>', # title of plot\n",
    "    xaxis_title_text='Values (length of the paths)', # xaxis label\n",
    "    yaxis_title_text='Count', # yaxis label\n",
    "    barmode=\"overlay\",\n",
    "    bargap=0.1 # gap between bars of adjacent location coordinates\n",
    ")\n",
    "\n",
    "# hist_fig3.show()\n",
    "hist_fig3.write_html(\"./[HTML] plots/distances.html\")"
   ]
  },
  {
   "attachments": {},
   "cell_type": "markdown",
   "metadata": {},
   "source": [
    "### 4. Degree correlation"
   ]
  },
  {
   "attachments": {},
   "cell_type": "markdown",
   "metadata": {},
   "source": [
    "#### 4.a (Ugly) degree correlation matrix"
   ]
  },
  {
   "cell_type": "code",
   "execution_count": 41,
   "metadata": {},
   "outputs": [
    {
     "name": "stderr",
     "output_type": "stream",
     "text": [
      "100%|██████████| 6549/6549 [00:00<00:00, 10478.39it/s]\n"
     ]
    }
   ],
   "source": [
    "deg_dict = G.degree()\n",
    "degree_correlation_mat = np.zeros((max(deg_seq),  max(deg_seq)))  # matrix k x k , s.t. k is  the degree\n",
    "\n",
    "# filling the degree correlation matrix\n",
    "for n in tqdm(G.nodes()):\n",
    "    for v in G.neighbors(n):\n",
    "        if degree_correlation_mat[deg_dict[n]-1, deg_dict[v]-1] <= 5:\n",
    "            degree_correlation_mat[deg_dict[n]-1, deg_dict[v]-1]+=1\n",
    "            degree_correlation_mat[deg_dict[v]-1, deg_dict[n]-1]+=1\n",
    "\n",
    "fig = go.Figure(data=go.Heatmap(\n",
    "                    z=degree_correlation_mat, colorscale = 'BuPu'))\n",
    "# fig.show()\n",
    "fig.write_html(\"./[HTML] plots/degree coefficient matrix.html\")"
   ]
  },
  {
   "attachments": {},
   "cell_type": "markdown",
   "metadata": {},
   "source": [
    "#### 4.b Pearson degree correlation\n",
    "The pearson degree correlation $r \\in [-1, 1]$ is an indicator about the type of the graph.<br>\n"
   ]
  },
  {
   "cell_type": "code",
   "execution_count": null,
   "metadata": {},
   "outputs": [],
   "source": []
  },
  {
   "cell_type": "code",
   "execution_count": 42,
   "metadata": {},
   "outputs": [
    {
     "name": "stdout",
     "output_type": "stream",
     "text": [
      "The (Pearson) degree correlation is -0.1781505683934457\n"
     ]
    }
   ],
   "source": [
    "r = nx.degree_pearson_correlation_coefficient(G)\n",
    "print(f\"The (Pearson) degree correlation is {r}\")"
   ]
  },
  {
   "attachments": {},
   "cell_type": "markdown",
   "metadata": {},
   "source": [
    "**Remark:**<br>\n",
    "In this case, we have $r = -0.17 \\lt 0$ which means that this graph is an Assortative Network.\n",
    "> Assortative networks : is a type of network graph in which nodes tend to connect to other nodes of similar degree."
   ]
  },
  {
   "attachments": {},
   "cell_type": "markdown",
   "metadata": {},
   "source": [
    "### 5. Community detection"
   ]
  },
  {
   "cell_type": "code",
   "execution_count": 43,
   "metadata": {},
   "outputs": [
    {
     "name": "stdout",
     "output_type": "stream",
     "text": [
      "Number of communities detection: 23\n",
      "The average size of each community: 284.7391304347826\n",
      "Size deviation : 715.6485788910707 (pretty high)\n",
      "Maximum and minimum size: 2821, 2\n"
     ]
    }
   ],
   "source": [
    "# list_communities  = nx_comm.greedy_modularity_communities(G)\n",
    "print(f\"Number of communities detection: {len(list_communities)}\")\n",
    "print(f\"The average size of each community: {np.mean([len(x) for x in list_communities])}\")\n",
    "print(f\"Size deviation : {np.std([len(x) for x in list_communities])} (pretty high)\")\n",
    "print(f\"Maximum and minimum size: {np.max([len(x) for x in list_communities])}, {np.min([len(x) for x in list_communities])}\")"
   ]
  },
  {
   "attachments": {},
   "cell_type": "markdown",
   "metadata": {},
   "source": [
    "### 6. Number of triangles\n",
    "#### Expected number of triangles for random graphs\n",
    "For three distinct nodes $i,j,k \\in V$, the probability that the three edges $(i, j), (j, k)$ and $(i,k)$ exist is $p^3$.\n",
    "\n",
    "Let $T_{i,j,k}$ a random variable that is equal to $1$ if the triangle on those three nodes exists in the graph $G$, or $0$ otherwise. (Hence, $\\mathbb{P}(T_{i,j,k} = 1) = p^3$)\n",
    "\n",
    "Then, the expected number of triangles in graph $G$ can be computed like this:\n",
    "$$\n",
    "\\begin{aligned}\n",
    "\\mathbb{E}\\left[\\sum_{i,j,k}T_{i,j,k}\\right] &= \\sum_{i,j,k} \\mathbb{E}\\left[T_{i,j,k}\\right] \\\\\n",
    "&= \\sum_{i,j,k \\in V} \\mathbb{P}\\left(T_{i,j,k} = 1\\right) \\\\\n",
    "&= \\binom n3 p^3\n",
    "\n",
    "\\end{aligned}\n",
    "$$"
   ]
  },
  {
   "cell_type": "code",
   "execution_count": 44,
   "metadata": {},
   "outputs": [
    {
     "name": "stdout",
     "output_type": "stream",
     "text": [
      "The number of triangles of our dataset is 422694.0\n",
      "The number of triangles of the random dataset is 6788.790121529148\n"
     ]
    }
   ],
   "source": [
    "### Computing our dataset's number of triangles\n",
    "G_num_triangles = sum(nx.triangles(G).values())/3\n",
    "\n",
    "### The random graph's expected number of triangles\n",
    "G_rand_num_triangles = comb(N,3)*pow(p,3)\n",
    "\n",
    "### Print and discuss\n",
    "print(f\"The number of triangles of our dataset is {G_num_triangles}\")\n",
    "print(f\"The number of triangles of the random dataset is {G_rand_num_triangles}\")"
   ]
  },
  {
   "attachments": {},
   "cell_type": "markdown",
   "metadata": {},
   "source": [
    "**Remarks:**\n",
    "* The original value (from the karate graph) has a way far value of 422K.\n",
    "* The expected value is not even the half of it, but this was expected!"
   ]
  },
  {
   "attachments": {},
   "cell_type": "markdown",
   "metadata": {},
   "source": []
  }
 ],
 "metadata": {
  "kernelspec": {
   "display_name": "base",
   "language": "python",
   "name": "python3"
  },
  "language_info": {
   "codemirror_mode": {
    "name": "ipython",
    "version": 3
   },
   "file_extension": ".py",
   "mimetype": "text/x-python",
   "name": "python",
   "nbconvert_exporter": "python",
   "pygments_lexer": "ipython3",
   "version": "3.9.7"
  },
  "orig_nbformat": 4,
  "vscode": {
   "interpreter": {
    "hash": "a077222d77dfe082b8f1dd562ad70e458ac2ab76993a0b248ab0476e32e9e8dd"
   }
  }
 },
 "nbformat": 4,
 "nbformat_minor": 2
}
